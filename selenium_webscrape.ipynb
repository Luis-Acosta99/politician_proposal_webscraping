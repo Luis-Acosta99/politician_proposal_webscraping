{
 "cells": [
  {
   "cell_type": "code",
   "execution_count": 131,
   "metadata": {},
   "outputs": [],
   "source": [
    "from selenium import webdriver\n",
    "from selenium.webdriver.common.by import By\n",
    "from selenium.webdriver.support.ui import Select\n",
    "from selenium.common.exceptions import ElementClickInterceptedException\n",
    "import time\n",
    "import pandas as pd\n",
    "import requests"
   ]
  },
  {
   "cell_type": "markdown",
   "metadata": {},
   "source": [
    "# Select the representative profile\n",
    "\n",
    "Considering the following parameters\n",
    "- tipo de candidatura = Diputación mayoría relativa \n",
    "- entidad = all states, iterate through hard-coded list\n",
    "-"
   ]
  },
  {
   "cell_type": "code",
   "execution_count": 136,
   "metadata": {},
   "outputs": [],
   "source": [
    "#   FUNCTIONS\n",
    "# Function to scroll and try clicking the button\n",
    "def scroll_and_click(driver,button_selector):\n",
    "    while True:\n",
    "        try:\n",
    "            # Attempt to click the button\n",
    "            button = driver.find_element(By.CSS_SELECTOR, button_selector)\n",
    "            button.click()\n",
    "            break  # Exit the loop if the click is successful\n",
    "        except ElementClickInterceptedException:\n",
    "            # Scroll down 100 pixels\n",
    "            driver.execute_script(\"window.scrollBy(0, 500);\")\n",
    "            time.sleep(2)  # Optional: wait a little before trying again\n",
    "\n",
    "def open_page(url):\n",
    "    # Set up WebDriver (assuming you're using Chrome)\n",
    "    options = webdriver.ChromeOptions()\n",
    "    options.add_experimental_option('prefs', {\n",
    "        \"download.prompt_for_download\": False,\n",
    "        \"download.directory_upgrade\": True,\n",
    "        \"safebrowsing.enabled\": True\n",
    "    })\n",
    "\n",
    "    driver = webdriver.Chrome(options=options)\n",
    "\n",
    "    driver.get(url)\n",
    "\n",
    "    return driver\n",
    "\n",
    "def search_by_state(driver, state_name, search_button_pixel_scroll=500):\n",
    "    # select only those that correspond to the tipo_de_candidatura == mayoria relativa\n",
    "    candidacy_type = driver.find_element(By.CSS_SELECTOR, '#busqueda-form_tipoCandidatura')\n",
    "    # Click the dropdown to reveal the options\n",
    "    candidacy_type.click()\n",
    "\n",
    "    # select the needed option\n",
    "    mayoria_relativa = driver.find_element(By.CSS_SELECTOR, 'div[title=\"Diputación mayoría relativa\"]')\n",
    "    mayoria_relativa.click()\n",
    "\n",
    "    # select only those that correspond to the tipo_de_candidatura == mayoria relativa\n",
    "    state_menu = driver.find_element(By.CSS_SELECTOR, '#busqueda-form_entidad')\n",
    "    # Click the dropdown to reveal the options\n",
    "    state_menu.click()\n",
    "\n",
    "    # select the needed state\n",
    "    state = driver.find_element(By.CSS_SELECTOR, f'div[title=\"{state_name}\"]')\n",
    "    state.click()\n",
    "\n",
    "    #execute search\n",
    "    driver.execute_script(f\"window.scrollBy(0, {search_button_pixel_scroll});\")  # Scroll down by 1000 pixels\n",
    "    buscar = driver.find_element(By.CSS_SELECTOR, 'button.ant-btn:nth-child(2)')\n",
    "    # Click the dropdown to reveal the options\n",
    "    time.sleep(1)\n",
    "    buscar.click()\n",
    "    time.sleep(2)\n",
    "\n",
    "\n",
    "def get_candidate_table(driver):\n",
    "    # select only those that correspond to the tipo_de_candidatura == mayoria relativa\n",
    "    table = driver.find_element(By.CSS_SELECTOR, '#contenedor-resultados > div.ant-table-wrapper > div > div > div > div > div > table')\n",
    "\n",
    "    # Find all rows in the table (usually inside <tr> tags)\n",
    "    rows = table.find_elements(By.XPATH, './/tbody/tr')  \n",
    "\n",
    "    return table, rows\n",
    "\n",
    "def download_table_candidates(driver, output_dir, state_name):\n",
    "    # Loop through each row and find the url with the file to download\n",
    "    n=1\n",
    "\n",
    "    table, rows = get_candidate_table(driver)\n",
    "\n",
    "    for row in range(1,len(rows)): #the table links begin on the 2nd body row, get the link and open, download file, and go back\n",
    "        n=n+1\n",
    "        table, rows = get_candidate_table(driver) #when you refresh the page, the old table variable expires, so a re-declaration is needed\n",
    "\n",
    "        # Locate the 4th column (index 3 because it is 0-based)\n",
    "        link_element = table.find_element(By.CSS_SELECTOR, f'tr.ant-table-row:nth-child({n}) > td:nth-child(4) > div:nth-child(1) > a:nth-child(2)')\n",
    "        # Extract the link and print it (optional)\n",
    "        link_url = link_element.get_attribute('href')\n",
    "        print(f\"Opening link: {link_url}\")\n",
    "\n",
    "        # Click the link\n",
    "        link_element.click()\n",
    "        # Allow the new page to load (adjust time as necessary)\n",
    "        time.sleep(5)\n",
    "\n",
    "        button_selector='#imprimir > div.ant-row > div:nth-child(2) > div > a'\n",
    "        scroll_and_click(driver,button_selector)  # Scroll down by 1000 pixels\n",
    "        time.sleep(3)\n",
    "\n",
    "        # Switch to the new tab\n",
    "        driver.switch_to.window(driver.window_handles[1])  # Switch to the new tab\n",
    "\n",
    "        # Get the URL of the PDF file\n",
    "        pdf_url = driver.current_url\n",
    "\n",
    "        # Download the PDF\n",
    "        response = requests.get(pdf_url)\n",
    "        pdf_path = f'{output_dir}/{state_name}_{n-1}.pdf'  \n",
    "\n",
    "        # Save the PDF file\n",
    "        with open(pdf_path, 'wb') as f:\n",
    "            f.write(response.content)\n",
    "\n",
    "        print(f\"Downloaded PDF to: {pdf_path}\")\n",
    "\n",
    "        # Close the PDF tab\n",
    "        driver.close()\n",
    "\n",
    "        # Switch back to the original tab\n",
    "        driver.switch_to.window(driver.window_handles[0])\n",
    "\n",
    "        # Go back to the original table page\n",
    "        driver.back()\n",
    "        time.sleep(4)\n",
    "\n",
    "def get_candidate_pdfs(driver, output_dir, state_name):\n",
    "    download_table_candidates(driver, output_dir, state_name)"
   ]
  },
  {
   "cell_type": "markdown",
   "metadata": {},
   "source": [
    "## Loose code"
   ]
  },
  {
   "cell_type": "code",
   "execution_count": 68,
   "metadata": {},
   "outputs": [],
   "source": [
    "# Set up WebDriver (assuming you're using Chrome)\n",
    "options = webdriver.ChromeOptions()\n",
    "options.add_experimental_option('prefs', {\n",
    "    \"download.default_directory\": \"C:/Users/luisf/Downloads/propuestas_politicas\",  # Change path accordingly\n",
    "    \"download.prompt_for_download\": False,\n",
    "    \"download.directory_upgrade\": True,\n",
    "    \"safebrowsing.enabled\": True\n",
    "})\n",
    "\n",
    "driver = webdriver.Chrome(options=options)\n",
    "\n",
    "driver.get('https://candidaturas2021.ine.mx/')"
   ]
  },
  {
   "cell_type": "markdown",
   "metadata": {},
   "source": [
    "Select tipo de candidatura"
   ]
  },
  {
   "cell_type": "code",
   "execution_count": 69,
   "metadata": {},
   "outputs": [],
   "source": [
    "# Give it a moment to load options\n",
    "time.sleep(5)\n",
    "\n",
    "# select only those that correspond to the tipo_de_candidatura == mayoria relativa\n",
    "tipo_candidatura = driver.find_element(By.CSS_SELECTOR, '#busqueda-form_tipoCandidatura')\n",
    "# Click the dropdown to reveal the options\n",
    "tipo_candidatura.click()\n",
    "\n",
    "# select the needed title\n",
    "mayoria_relativa = driver.find_element(By.CSS_SELECTOR, 'div[title=\"Diputación mayoría relativa\"]')\n",
    "mayoria_relativa.click()"
   ]
  },
  {
   "cell_type": "markdown",
   "metadata": {},
   "source": [
    "Select state"
   ]
  },
  {
   "cell_type": "code",
   "execution_count": 70,
   "metadata": {},
   "outputs": [],
   "source": [
    "# select only those that correspond to the tipo_de_candidatura == mayoria relativa\n",
    "entidad = driver.find_element(By.CSS_SELECTOR, '#busqueda-form_entidad')\n",
    "# Click the dropdown to reveal the options\n",
    "entidad.click()\n",
    "\n",
    "# select the needed state\n",
    "nombre_estado = \"AGUASCALIENTES\"\n",
    "estado = driver.find_element(By.CSS_SELECTOR, f'div[title=\"{nombre_estado}\"]')\n",
    "estado.click()\n",
    "\n",
    "# Give it a moment to load options\n",
    "time.sleep(2)"
   ]
  },
  {
   "cell_type": "markdown",
   "metadata": {},
   "source": [
    "Execute search"
   ]
  },
  {
   "cell_type": "code",
   "execution_count": null,
   "metadata": {},
   "outputs": [],
   "source": [
    "#execute search\n",
    "driver.execute_script(\"window.scrollBy(0, 500);\")  # Scroll down by 1000 pixels\n",
    "buscar = driver.find_element(By.CSS_SELECTOR, 'button.ant-btn:nth-child(2)')\n",
    "# Click the dropdown to reveal the options\n",
    "time.sleep(1)\n",
    "buscar.click()\n",
    "time.sleep(2)"
   ]
  },
  {
   "cell_type": "markdown",
   "metadata": {},
   "source": [
    "Table selection"
   ]
  },
  {
   "cell_type": "code",
   "execution_count": 110,
   "metadata": {},
   "outputs": [],
   "source": [
    "\n",
    "# select only those that correspond to the tipo_de_candidatura == mayoria relativa\n",
    "tabla = driver.find_element(By.CSS_SELECTOR, '#contenedor-resultados > div.ant-table-wrapper > div > div > div > div > div > table')\n",
    "\n",
    "# Find all rows in the table (usually inside <tr> tags)\n",
    "rows = tabla.find_elements(By.XPATH, './/tbody/tr')    "
   ]
  },
  {
   "cell_type": "markdown",
   "metadata": {},
   "source": [
    "Table iteration and file download"
   ]
  },
  {
   "cell_type": "code",
   "execution_count": 117,
   "metadata": {},
   "outputs": [
    {
     "name": "stdout",
     "output_type": "stream",
     "text": [
      "Opening link: https://candidaturas2021.ine.mx/detalleCandidato/24042/4\n",
      "Downloaded PDF to: C:/Users/luisf/Downloads/propuestas_politicas/AGUASCALIENTES_2.pdf\n"
     ]
    }
   ],
   "source": [
    "# Loop through each row and find the url with the file to download\n",
    "n=1\n",
    "for row in range(1,2):#range(1,len(rows)): #the table links begin on the 2nd body row, get the link and open, download file, and go back\n",
    "    n=n+1\n",
    "    tabla = driver.find_element(By.CSS_SELECTOR, '#contenedor-resultados > div.ant-table-wrapper > div > div > div > div > div > table')\n",
    "    rows = tabla.find_elements(By.XPATH, './/tbody/tr')\n",
    "\n",
    "    # Locate the 4th column (index 3 because it is 0-based)\n",
    "    link_element = tabla.find_element(By.CSS_SELECTOR, f'tr.ant-table-row:nth-child({n}) > td:nth-child(4) > div:nth-child(1) > a:nth-child(2)')\n",
    "    # Extract the link and print it (optional)\n",
    "    link_url = link_element.get_attribute('href')\n",
    "    print(f\"Opening link: {link_url}\")\n",
    "\n",
    "    # Click the link\n",
    "    link_element.click()\n",
    "    # Allow the new page to load (adjust time as necessary)\n",
    "    time.sleep(5)\n",
    "    driver.execute_script(\"window.scrollBy(0, 2500);\")  # Scroll down by 1000 pixels\n",
    "    time.sleep(3)\n",
    "    documento = driver.find_element(By.CSS_SELECTOR, '#imprimir > div.ant-row > div:nth-child(2) > div > a')\n",
    "    documento.click()\n",
    "\n",
    "    # Switch to the new tab\n",
    "    driver.switch_to.window(driver.window_handles[1])  # Switch to the new tab\n",
    "\n",
    "    # Get the URL of the PDF file\n",
    "    pdf_url = driver.current_url\n",
    "\n",
    "    # Download the PDF\n",
    "    response = requests.get(pdf_url)\n",
    "    pdf_path = f'C:/Users/luisf/Downloads/propuestas_politicas/{nombre_estado}_{n-1}.pdf'  \n",
    "\n",
    "    # Save the PDF file\n",
    "    with open(pdf_path, 'wb') as f:\n",
    "        f.write(response.content)\n",
    "\n",
    "    print(f\"Downloaded PDF to: {pdf_path}\")\n",
    "\n",
    "    # Go back to the original table page\n",
    "    driver.back()\n",
    "    time.sleep(4)\n"
   ]
  },
  {
   "cell_type": "markdown",
   "metadata": {},
   "source": [
    "# Parameters"
   ]
  },
  {
   "cell_type": "code",
   "execution_count": 133,
   "metadata": {},
   "outputs": [],
   "source": [
    "url = 'https://candidaturas2021.ine.mx/'\n",
    "search_button_pixel_scroll = 500\n",
    "output_dir = \"C:/Users/luisf/Downloads/propuestas_politicas\"\n",
    "\n",
    "states = [\"AGUASCALIENTES\",\n",
    "            \"BAJA CALIFORNIA\",\n",
    "            \"BAJA CALIFORNIA SUR\",\n",
    "            \"CAMPECHE\",\n",
    "            \"CHIAPAS\",\n",
    "            \"CHIHUAHUA\",\n",
    "            \"COAHUILA\",\n",
    "            \"COLIMA\",\n",
    "            \"DURANGO\",\n",
    "            \"GUANAJUATO\",\n",
    "            \"GUERRERO\",\n",
    "            \"HIDALGO\",\n",
    "            \"JALISCO\",\n",
    "            \"MEXICO\",\n",
    "            \"MICHOACAN\",\n",
    "            \"MORELOS\",\n",
    "            \"NAYARIT\",\n",
    "            \"NUEVO LEON\",\n",
    "            \"OAXACA\",\n",
    "            \"PUEBLA\",\n",
    "            \"QUERETARO\",\n",
    "            \"QUINTANA ROO\",\n",
    "            \"SAN LUIS POTOSI\",\n",
    "            \"SINALOA\",\n",
    "            \"SONORA\",\n",
    "            \"TABASCO\",\n",
    "            \"TAMAULIPAS\",\n",
    "            \"TLAXCALA\",\n",
    "            \"VERACRUZ\",\n",
    "            \"YUCATAN\",\n",
    "            \"ZACATECAS\"]\n"
   ]
  },
  {
   "cell_type": "markdown",
   "metadata": {},
   "source": [
    "# Processing"
   ]
  },
  {
   "cell_type": "code",
   "execution_count": 134,
   "metadata": {},
   "outputs": [
    {
     "name": "stdout",
     "output_type": "stream",
     "text": [
      "Opening link: https://candidaturas2021.ine.mx/detalleCandidato/24042/4\n",
      "Downloaded PDF to: C:/Users/luisf/Downloads/propuestas_politicas/AGUASCALIENTES_1.pdf\n",
      "Opening link: https://candidaturas2021.ine.mx/detalleCandidato/8222/4\n"
     ]
    },
    {
     "ename": "KeyboardInterrupt",
     "evalue": "",
     "output_type": "error",
     "traceback": [
      "\u001b[1;31m---------------------------------------------------------------------------\u001b[0m",
      "\u001b[1;31mElementClickInterceptedException\u001b[0m          Traceback (most recent call last)",
      "Cell \u001b[1;32mIn[132], line 8\u001b[0m, in \u001b[0;36mscroll_and_click\u001b[1;34m(driver, button_selector)\u001b[0m\n\u001b[0;32m      7\u001b[0m button \u001b[38;5;241m=\u001b[39m driver\u001b[38;5;241m.\u001b[39mfind_element(By\u001b[38;5;241m.\u001b[39mCSS_SELECTOR, button_selector)\n\u001b[1;32m----> 8\u001b[0m \u001b[43mbutton\u001b[49m\u001b[38;5;241;43m.\u001b[39;49m\u001b[43mclick\u001b[49m\u001b[43m(\u001b[49m\u001b[43m)\u001b[49m\n\u001b[0;32m      9\u001b[0m \u001b[38;5;28;01mbreak\u001b[39;00m  \u001b[38;5;66;03m# Exit the loop if the click is successful\u001b[39;00m\n",
      "File \u001b[1;32mc:\\Users\\luisf\\git_projects\\politician_proposal_webscraping\\slnm\\Lib\\site-packages\\selenium\\webdriver\\remote\\webelement.py:94\u001b[0m, in \u001b[0;36mWebElement.click\u001b[1;34m(self)\u001b[0m\n\u001b[0;32m     93\u001b[0m \u001b[38;5;250m\u001b[39m\u001b[38;5;124;03m\"\"\"Clicks the element.\"\"\"\u001b[39;00m\n\u001b[1;32m---> 94\u001b[0m \u001b[38;5;28;43mself\u001b[39;49m\u001b[38;5;241;43m.\u001b[39;49m\u001b[43m_execute\u001b[49m\u001b[43m(\u001b[49m\u001b[43mCommand\u001b[49m\u001b[38;5;241;43m.\u001b[39;49m\u001b[43mCLICK_ELEMENT\u001b[49m\u001b[43m)\u001b[49m\n",
      "File \u001b[1;32mc:\\Users\\luisf\\git_projects\\politician_proposal_webscraping\\slnm\\Lib\\site-packages\\selenium\\webdriver\\remote\\webelement.py:395\u001b[0m, in \u001b[0;36mWebElement._execute\u001b[1;34m(self, command, params)\u001b[0m\n\u001b[0;32m    394\u001b[0m params[\u001b[38;5;124m\"\u001b[39m\u001b[38;5;124mid\u001b[39m\u001b[38;5;124m\"\u001b[39m] \u001b[38;5;241m=\u001b[39m \u001b[38;5;28mself\u001b[39m\u001b[38;5;241m.\u001b[39m_id\n\u001b[1;32m--> 395\u001b[0m \u001b[38;5;28;01mreturn\u001b[39;00m \u001b[38;5;28;43mself\u001b[39;49m\u001b[38;5;241;43m.\u001b[39;49m\u001b[43m_parent\u001b[49m\u001b[38;5;241;43m.\u001b[39;49m\u001b[43mexecute\u001b[49m\u001b[43m(\u001b[49m\u001b[43mcommand\u001b[49m\u001b[43m,\u001b[49m\u001b[43m \u001b[49m\u001b[43mparams\u001b[49m\u001b[43m)\u001b[49m\n",
      "File \u001b[1;32mc:\\Users\\luisf\\git_projects\\politician_proposal_webscraping\\slnm\\Lib\\site-packages\\selenium\\webdriver\\remote\\webdriver.py:354\u001b[0m, in \u001b[0;36mWebDriver.execute\u001b[1;34m(self, driver_command, params)\u001b[0m\n\u001b[0;32m    353\u001b[0m \u001b[38;5;28;01mif\u001b[39;00m response:\n\u001b[1;32m--> 354\u001b[0m     \u001b[38;5;28;43mself\u001b[39;49m\u001b[38;5;241;43m.\u001b[39;49m\u001b[43merror_handler\u001b[49m\u001b[38;5;241;43m.\u001b[39;49m\u001b[43mcheck_response\u001b[49m\u001b[43m(\u001b[49m\u001b[43mresponse\u001b[49m\u001b[43m)\u001b[49m\n\u001b[0;32m    355\u001b[0m     response[\u001b[38;5;124m\"\u001b[39m\u001b[38;5;124mvalue\u001b[39m\u001b[38;5;124m\"\u001b[39m] \u001b[38;5;241m=\u001b[39m \u001b[38;5;28mself\u001b[39m\u001b[38;5;241m.\u001b[39m_unwrap_value(response\u001b[38;5;241m.\u001b[39mget(\u001b[38;5;124m\"\u001b[39m\u001b[38;5;124mvalue\u001b[39m\u001b[38;5;124m\"\u001b[39m, \u001b[38;5;28;01mNone\u001b[39;00m))\n",
      "File \u001b[1;32mc:\\Users\\luisf\\git_projects\\politician_proposal_webscraping\\slnm\\Lib\\site-packages\\selenium\\webdriver\\remote\\errorhandler.py:229\u001b[0m, in \u001b[0;36mErrorHandler.check_response\u001b[1;34m(self, response)\u001b[0m\n\u001b[0;32m    228\u001b[0m     \u001b[38;5;28;01mraise\u001b[39;00m exception_class(message, screen, stacktrace, alert_text)  \u001b[38;5;66;03m# type: ignore[call-arg]  # mypy is not smart enough here\u001b[39;00m\n\u001b[1;32m--> 229\u001b[0m \u001b[38;5;28;01mraise\u001b[39;00m exception_class(message, screen, stacktrace)\n",
      "\u001b[1;31mElementClickInterceptedException\u001b[0m: Message: element click intercepted: Element is not clickable at point (899, 1930)\n  (Session info: chrome=129.0.6668.90)\nStacktrace:\n\tGetHandleVerifier [0x00007FF72DE2B095+29557]\n\t(No symbol) [0x00007FF72DD9FA50]\n\t(No symbol) [0x00007FF72DC5B56A]\n\t(No symbol) [0x00007FF72DCB737E]\n\t(No symbol) [0x00007FF72DCB4DCC]\n\t(No symbol) [0x00007FF72DCB2288]\n\t(No symbol) [0x00007FF72DCB149A]\n\t(No symbol) [0x00007FF72DCA354E]\n\t(No symbol) [0x00007FF72DCD718A]\n\t(No symbol) [0x00007FF72DCA2E86]\n\t(No symbol) [0x00007FF72DCD73A0]\n\t(No symbol) [0x00007FF72DCF851C]\n\t(No symbol) [0x00007FF72DCD6F33]\n\t(No symbol) [0x00007FF72DCA116F]\n\t(No symbol) [0x00007FF72DCA22D1]\n\tGetHandleVerifier [0x00007FF72E15C96D+3378253]\n\tGetHandleVerifier [0x00007FF72E1A8497+3688311]\n\tGetHandleVerifier [0x00007FF72E19D1CB+3642539]\n\tGetHandleVerifier [0x00007FF72DEEA6B6+813462]\n\t(No symbol) [0x00007FF72DDAAB5F]\n\t(No symbol) [0x00007FF72DDA6B74]\n\t(No symbol) [0x00007FF72DDA6D10]\n\t(No symbol) [0x00007FF72DD95C1F]\n\tBaseThreadInitThunk [0x00007FFE6369257D+29]\n\tRtlUserThreadStart [0x00007FFE6584AF28+40]\n",
      "\nDuring handling of the above exception, another exception occurred:\n",
      "\u001b[1;31mKeyboardInterrupt\u001b[0m                         Traceback (most recent call last)",
      "Cell \u001b[1;32mIn[134], line 9\u001b[0m\n\u001b[0;32m      5\u001b[0m search_by_state(home_page, states[\u001b[38;5;241m0\u001b[39m], search_button_pixel_scroll)\n\u001b[0;32m      7\u001b[0m time\u001b[38;5;241m.\u001b[39msleep(\u001b[38;5;241m2\u001b[39m)\n\u001b[1;32m----> 9\u001b[0m \u001b[43mget_candidate_pdfs\u001b[49m\u001b[43m(\u001b[49m\u001b[43mhome_page\u001b[49m\u001b[43m,\u001b[49m\u001b[43m \u001b[49m\u001b[43moutput_dir\u001b[49m\u001b[43m,\u001b[49m\u001b[43m \u001b[49m\u001b[43mstates\u001b[49m\u001b[43m[\u001b[49m\u001b[38;5;241;43m0\u001b[39;49m\u001b[43m]\u001b[49m\u001b[43m)\u001b[49m\n",
      "Cell \u001b[1;32mIn[132], line 119\u001b[0m, in \u001b[0;36mget_candidate_pdfs\u001b[1;34m(driver, output_dir, state_name)\u001b[0m\n\u001b[0;32m    118\u001b[0m \u001b[38;5;28;01mdef\u001b[39;00m \u001b[38;5;21mget_candidate_pdfs\u001b[39m(driver, output_dir, state_name):\n\u001b[1;32m--> 119\u001b[0m     \u001b[43mdownload_table_candidates\u001b[49m\u001b[43m(\u001b[49m\u001b[43mdriver\u001b[49m\u001b[43m,\u001b[49m\u001b[43m \u001b[49m\u001b[43moutput_dir\u001b[49m\u001b[43m,\u001b[49m\u001b[43m \u001b[49m\u001b[43mstate_name\u001b[49m\u001b[43m)\u001b[49m\n",
      "Cell \u001b[1;32mIn[132], line 89\u001b[0m, in \u001b[0;36mdownload_table_candidates\u001b[1;34m(driver, output_dir, state_name)\u001b[0m\n\u001b[0;32m     86\u001b[0m time\u001b[38;5;241m.\u001b[39msleep(\u001b[38;5;241m5\u001b[39m)\n\u001b[0;32m     88\u001b[0m button_selector\u001b[38;5;241m=\u001b[39m\u001b[38;5;124m'\u001b[39m\u001b[38;5;124m#imprimir > div.ant-row > div:nth-child(2) > div > a\u001b[39m\u001b[38;5;124m'\u001b[39m\n\u001b[1;32m---> 89\u001b[0m \u001b[43mscroll_and_click\u001b[49m\u001b[43m(\u001b[49m\u001b[43mdriver\u001b[49m\u001b[43m,\u001b[49m\u001b[43mbutton_selector\u001b[49m\u001b[43m)\u001b[49m  \u001b[38;5;66;03m# Scroll down by 1000 pixels\u001b[39;00m\n\u001b[0;32m     90\u001b[0m time\u001b[38;5;241m.\u001b[39msleep(\u001b[38;5;241m3\u001b[39m)\n\u001b[0;32m     92\u001b[0m \u001b[38;5;66;03m# Switch to the new tab\u001b[39;00m\n",
      "Cell \u001b[1;32mIn[132], line 13\u001b[0m, in \u001b[0;36mscroll_and_click\u001b[1;34m(driver, button_selector)\u001b[0m\n\u001b[0;32m     10\u001b[0m \u001b[38;5;28;01mexcept\u001b[39;00m ElementClickInterceptedException:\n\u001b[0;32m     11\u001b[0m     \u001b[38;5;66;03m# Scroll down 100 pixels\u001b[39;00m\n\u001b[0;32m     12\u001b[0m     driver\u001b[38;5;241m.\u001b[39mexecute_script(\u001b[38;5;124m\"\u001b[39m\u001b[38;5;124mwindow.scrollBy(0, 100);\u001b[39m\u001b[38;5;124m\"\u001b[39m)\n\u001b[1;32m---> 13\u001b[0m     \u001b[43mtime\u001b[49m\u001b[38;5;241;43m.\u001b[39;49m\u001b[43msleep\u001b[49m\u001b[43m(\u001b[49m\u001b[38;5;241;43m2\u001b[39;49m\u001b[43m)\u001b[49m\n",
      "\u001b[1;31mKeyboardInterrupt\u001b[0m: "
     ]
    }
   ],
   "source": [
    "\n",
    "home_page = open_page(url)\n",
    "\n",
    "time.sleep(5)\n",
    "\n",
    "search_by_state(home_page, states[0], search_button_pixel_scroll)\n",
    "\n",
    "time.sleep(2)\n",
    "\n",
    "get_candidate_pdfs(home_page, output_dir, states[0])"
   ]
  }
 ],
 "metadata": {
  "kernelspec": {
   "display_name": "slnm",
   "language": "python",
   "name": "python3"
  },
  "language_info": {
   "codemirror_mode": {
    "name": "ipython",
    "version": 3
   },
   "file_extension": ".py",
   "mimetype": "text/x-python",
   "name": "python",
   "nbconvert_exporter": "python",
   "pygments_lexer": "ipython3",
   "version": "3.12.2"
  }
 },
 "nbformat": 4,
 "nbformat_minor": 2
}
