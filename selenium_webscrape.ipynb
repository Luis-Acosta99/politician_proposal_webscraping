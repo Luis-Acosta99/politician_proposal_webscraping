{
 "cells": [
  {
   "cell_type": "code",
   "execution_count": 2,
   "metadata": {},
   "outputs": [],
   "source": [
    "from selenium import webdriver\n",
    "from selenium.webdriver.common.by import By\n",
    "from selenium.webdriver.support.ui import Select\n",
    "import time\n",
    "import pandas as pd"
   ]
  },
  {
   "cell_type": "code",
   "execution_count": 5,
   "metadata": {},
   "outputs": [],
   "source": [
    "# Set up WebDriver (assuming you're using Chrome)\n",
    "options = webdriver.ChromeOptions()\n",
    "options.add_experimental_option('prefs', {\n",
    "    \"download.default_directory\": \"C:/Users/luisf/Downloads/propuestas_politicas\",  # Change path accordingly\n",
    "    \"download.prompt_for_download\": False,\n",
    "    \"download.directory_upgrade\": True,\n",
    "    \"safebrowsing.enabled\": True\n",
    "})\n",
    "\n",
    "driver = webdriver.Chrome(options=options)\n",
    "\n",
    "driver.get('https://candidaturas2021.ine.mx/')"
   ]
  },
  {
   "cell_type": "code",
   "execution_count": 12,
   "metadata": {},
   "outputs": [],
   "source": [
    "dropdown = driver.find_element(By.CSS_SELECTOR, 'div.filtro:nth-child(4) > div:nth-child(1) > div:nth-child(1)')\n",
    "\n",
    "# Click the dropdown to reveal the options\n",
    "dropdown.click()\n",
    "\n"
   ]
  },
  {
   "cell_type": "code",
   "execution_count": 13,
   "metadata": {},
   "outputs": [],
   "source": [
    "dropdown_container = driver.find_element(By.CLASS_NAME, 'rc-virtual-list-holder')\n",
    "\n",
    "dropdown_container.click()\n",
    "\n",
    "# Give it a moment to load options\n",
    "time.sleep(2)\n",
    "\n",
    "# Locate all the dropdown options (div elements that represent the options)\n",
    "options = driver.find_elements(By.CLASS_NAME, 'col-xs-12 espaciador-bottom-xs filtro')\n",
    "\n",
    "# Iterate over the options and select each one\n",
    "for option in options:\n",
    "    print(f\"Selecting option: {option.text}\")\n",
    "\n",
    "# Close the browser after the task is done\n",
    "driver.quit()"
   ]
  }
 ],
 "metadata": {
  "kernelspec": {
   "display_name": "slnm",
   "language": "python",
   "name": "python3"
  },
  "language_info": {
   "codemirror_mode": {
    "name": "ipython",
    "version": 3
   },
   "file_extension": ".py",
   "mimetype": "text/x-python",
   "name": "python",
   "nbconvert_exporter": "python",
   "pygments_lexer": "ipython3",
   "version": "3.12.2"
  }
 },
 "nbformat": 4,
 "nbformat_minor": 2
}
