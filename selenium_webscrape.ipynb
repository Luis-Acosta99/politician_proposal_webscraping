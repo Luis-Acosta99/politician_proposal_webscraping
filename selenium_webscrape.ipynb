{
 "cells": [
  {
   "cell_type": "code",
   "execution_count": 67,
   "metadata": {},
   "outputs": [],
   "source": [
    "from selenium import webdriver\n",
    "from selenium.webdriver.common.by import By\n",
    "from selenium.webdriver.support.ui import Select\n",
    "import time\n",
    "import pandas as pd"
   ]
  },
  {
   "cell_type": "markdown",
   "metadata": {},
   "source": [
    "# Select the representative profile\n",
    "\n",
    "Considering the following parameters\n",
    "- tipo de candidatura = Diputación mayoría relativa \n",
    "- entidad = all states, iterate through hard-coded list\n",
    "-"
   ]
  },
  {
   "cell_type": "markdown",
   "metadata": {},
   "source": [
    "Open driver and webpage"
   ]
  },
  {
   "cell_type": "code",
   "execution_count": 68,
   "metadata": {},
   "outputs": [],
   "source": [
    "# Set up WebDriver (assuming you're using Chrome)\n",
    "options = webdriver.ChromeOptions()\n",
    "options.add_experimental_option('prefs', {\n",
    "    \"download.default_directory\": \"C:/Users/luisf/Downloads/propuestas_politicas\",  # Change path accordingly\n",
    "    \"download.prompt_for_download\": False,\n",
    "    \"download.directory_upgrade\": True,\n",
    "    \"safebrowsing.enabled\": True\n",
    "})\n",
    "\n",
    "driver = webdriver.Chrome(options=options)\n",
    "\n",
    "driver.get('https://candidaturas2021.ine.mx/')"
   ]
  },
  {
   "cell_type": "markdown",
   "metadata": {},
   "source": [
    "Select tipo de candidatura"
   ]
  },
  {
   "cell_type": "code",
   "execution_count": 69,
   "metadata": {},
   "outputs": [],
   "source": [
    "# Give it a moment to load options\n",
    "time.sleep(5)\n",
    "\n",
    "# select only those that correspond to the tipo_de_candidatura == mayoria relativa\n",
    "tipo_candidatura = driver.find_element(By.CSS_SELECTOR, '#busqueda-form_tipoCandidatura')\n",
    "# Click the dropdown to reveal the options\n",
    "tipo_candidatura.click()\n",
    "\n",
    "# select the needed title\n",
    "mayoria_relativa = driver.find_element(By.CSS_SELECTOR, 'div[title=\"Diputación mayoría relativa\"]')\n",
    "mayoria_relativa.click()"
   ]
  },
  {
   "cell_type": "markdown",
   "metadata": {},
   "source": [
    "Select state"
   ]
  },
  {
   "cell_type": "code",
   "execution_count": 70,
   "metadata": {},
   "outputs": [],
   "source": [
    "# select only those that correspond to the tipo_de_candidatura == mayoria relativa\n",
    "entidad = driver.find_element(By.CSS_SELECTOR, '#busqueda-form_entidad')\n",
    "# Click the dropdown to reveal the options\n",
    "entidad.click()\n",
    "\n",
    "# select the needed state\n",
    "nombre_estado = \"AGUASCALIENTES\"\n",
    "estado = driver.find_element(By.CSS_SELECTOR, f'div[title=\"{nombre_estado}\"]')\n",
    "estado.click()\n",
    "\n",
    "# Give it a moment to load options\n",
    "time.sleep(2)\n",
    "\n",
    "#execute search\n",
    "driver.execute_script(\"window.scrollBy(0, 500);\")  # Scroll down by 1000 pixels\n",
    "buscar = driver.find_element(By.CSS_SELECTOR, 'button.ant-btn:nth-child(2)')\n",
    "# Click the dropdown to reveal the options\n",
    "time.sleep(1)\n",
    "buscar.click()\n",
    "time.sleep(2)"
   ]
  },
  {
   "cell_type": "markdown",
   "metadata": {},
   "source": [
    "Table selection"
   ]
  },
  {
   "cell_type": "code",
   "execution_count": 76,
   "metadata": {},
   "outputs": [
    {
     "ename": "IndexError",
     "evalue": "list index out of range",
     "output_type": "error",
     "traceback": [
      "\u001b[1;31m---------------------------------------------------------------------------\u001b[0m",
      "\u001b[1;31mIndexError\u001b[0m                                Traceback (most recent call last)",
      "Cell \u001b[1;32mIn[76], line 17\u001b[0m\n\u001b[0;32m     14\u001b[0m \u001b[38;5;66;03m# Print the content of each cell in the row\u001b[39;00m\n\u001b[0;32m     15\u001b[0m row_data \u001b[38;5;241m=\u001b[39m [col\u001b[38;5;241m.\u001b[39mtext \u001b[38;5;28;01mfor\u001b[39;00m col \u001b[38;5;129;01min\u001b[39;00m cols]  \u001b[38;5;66;03m# Extract the text from each cell\u001b[39;00m\n\u001b[1;32m---> 17\u001b[0m \u001b[38;5;28;01mif\u001b[39;00m \u001b[43mrow_data\u001b[49m\u001b[43m[\u001b[49m\u001b[38;5;241;43m1\u001b[39;49m\u001b[43m]\u001b[49m\u001b[38;5;241m==\u001b[39mestado:\n\u001b[0;32m     18\u001b[0m     \u001b[38;5;28mprint\u001b[39m(row_data)\n",
      "\u001b[1;31mIndexError\u001b[0m: list index out of range"
     ]
    }
   ],
   "source": [
    "\n",
    "# select only those that correspond to the tipo_de_candidatura == mayoria relativa\n",
    "tabla = driver.find_element(By.CSS_SELECTOR, '#contenedor-resultados > div.ant-table-wrapper > div > div > div > div > div > table')\n",
    "\n",
    "# Find all rows in the table (usually inside <tr> tags)\n",
    "rows = tabla.find_elements(By.TAG_NAME, 'tr')\n",
    "\n",
    "# Get the number of rows\n",
    "num_rows = len(rows)\n",
    "\n",
    "for row in rows:\n",
    "     # Find all the columns (td or th) in the row\n",
    "    cols = row.find_elements(By.TAG_NAME, 'td')  # use 'th' if there are headers\n",
    "    \n",
    "    # Print the content of each cell in the row\n",
    "    row_data = [col.text for col in cols]  # Extract the text from each cell\n",
    "    row_data = row_data\n",
    "    if row_data[1]==estado:\n",
    "        print(row_data)"
   ]
  },
  {
   "cell_type": "code",
   "execution_count": 74,
   "metadata": {},
   "outputs": [
    {
     "name": "stdout",
     "output_type": "stream",
     "text": [
      "[]\n",
      "['', '', '', '', '']\n",
      "['AGUASCALIENTES', '1-JESUS MARIA', '', '¡Consulta!\\nJUAN MANUEL DE LOERA MARQUEZ', '¡Consulta!\\nLILIA RODRIGUEZ GUERRERO']\n",
      "['AGUASCALIENTES', '1-JESUS MARIA', '', '¡Consulta!\\nCLAUDIA BRISEIDA CHAVEZ RAMIREZ', '¡Consulta!\\nMELANNIE ITZAYANA REYES MARTINEZ']\n",
      "['AGUASCALIENTES', '1-JESUS MARIA', '', '¡Consulta!\\nNORMA ISABEL ZAMORA RODRIGUEZ', '¡Consulta!\\nLUZ MARIA PADILLA DE LUNA']\n",
      "['AGUASCALIENTES', '1-JESUS MARIA', '', '¡Consulta!\\nRAFAEL CALDERON ZAMARRIPA', '¡Consulta!\\nJUAN JOSE RUIZ ESCOBAR']\n",
      "['AGUASCALIENTES', '1-JESUS MARIA', '', '¡Consulta!\\nMARTHA ESPERANZA CAMPOS ZAMBRANO', '¡Consulta!\\nPATRICIA MUÑOZ RAMIREZ']\n",
      "['AGUASCALIENTES', '1-JESUS MARIA', '', '¡Consulta!\\nJORGE EMIR CRAVIOTO QUEZADA', '¡Consulta!\\nFRANCISCO GERARDO FLORES CORREA']\n",
      "['AGUASCALIENTES', '1-JESUS MARIA', '', '¡Consulta!\\nPATRICIA DEL CARMEN RAMIREZ DE LARA', '¡Consulta!\\nCLAUDIA MARGARITA GOMEZ GARCIA']\n",
      "['AGUASCALIENTES', '1-JESUS MARIA', '', '¡Consulta!\\nNOEL MATA ATILANO', '¡Consulta!\\nARNULFO FEDERICO VARGAS GOMEZ']\n",
      "['AGUASCALIENTES', '2-AGUASCALIENTES', '', '¡Consulta!\\nMONICA BECERRA MORENO', '¡Consulta!\\nLAURA PATRICIA AHEDO BARCENAS']\n",
      "['AGUASCALIENTES', '2-AGUASCALIENTES', '', '¡Consulta!\\nROBERTO LAMAS DE ALBA', '¡Consulta!\\nALEJANDRO LENIN RUELAS CALDERON']\n"
     ]
    }
   ],
   "source": [
    "# Iterate through the rows\n",
    "for row in rows:\n",
    "    # Find all the columns (td or th) in the row\n",
    "    cols = row.find_elements(By.TAG_NAME, 'td')  # use 'th' if there are headers\n",
    "    \n",
    "    # Print the content of each cell in the row\n",
    "    row_data = [col.text for col in cols]  # Extract the text from each cell\n",
    "    print(row_data)"
   ]
  },
  {
   "cell_type": "code",
   "execution_count": 72,
   "metadata": {},
   "outputs": [],
   "source": [
    "\n",
    "\n",
    "# Give it a moment to load options\n",
    "time.sleep(2)\n",
    "\n",
    "\n",
    "# Close the browser after the task is done\n",
    "#driver.quit()"
   ]
  }
 ],
 "metadata": {
  "kernelspec": {
   "display_name": "slnm",
   "language": "python",
   "name": "python3"
  },
  "language_info": {
   "codemirror_mode": {
    "name": "ipython",
    "version": 3
   },
   "file_extension": ".py",
   "mimetype": "text/x-python",
   "name": "python",
   "nbconvert_exporter": "python",
   "pygments_lexer": "ipython3",
   "version": "3.12.2"
  }
 },
 "nbformat": 4,
 "nbformat_minor": 2
}
