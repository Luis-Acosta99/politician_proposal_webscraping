{
 "cells": [
  {
   "cell_type": "code",
   "execution_count": 67,
   "metadata": {},
   "outputs": [],
   "source": [
    "from selenium import webdriver\n",
    "from selenium.webdriver.common.by import By\n",
    "from selenium.webdriver.support.ui import Select\n",
    "import time\n",
    "import pandas as pd\n",
    "import requests"
   ]
  },
  {
   "cell_type": "markdown",
   "metadata": {},
   "source": [
    "# Select the representative profile\n",
    "\n",
    "Considering the following parameters\n",
    "- tipo de candidatura = Diputación mayoría relativa \n",
    "- entidad = all states, iterate through hard-coded list\n",
    "-"
   ]
  },
  {
   "cell_type": "markdown",
   "metadata": {},
   "source": [
    "Open driver and webpage"
   ]
  },
  {
   "cell_type": "code",
   "execution_count": 68,
   "metadata": {},
   "outputs": [],
   "source": [
    "# Set up WebDriver (assuming you're using Chrome)\n",
    "options = webdriver.ChromeOptions()\n",
    "options.add_experimental_option('prefs', {\n",
    "    \"download.default_directory\": \"C:/Users/luisf/Downloads/propuestas_politicas\",  # Change path accordingly\n",
    "    \"download.prompt_for_download\": False,\n",
    "    \"download.directory_upgrade\": True,\n",
    "    \"safebrowsing.enabled\": True\n",
    "})\n",
    "\n",
    "driver = webdriver.Chrome(options=options)\n",
    "\n",
    "driver.get('https://candidaturas2021.ine.mx/')"
   ]
  },
  {
   "cell_type": "markdown",
   "metadata": {},
   "source": [
    "Select tipo de candidatura"
   ]
  },
  {
   "cell_type": "code",
   "execution_count": 69,
   "metadata": {},
   "outputs": [],
   "source": [
    "# Give it a moment to load options\n",
    "time.sleep(5)\n",
    "\n",
    "# select only those that correspond to the tipo_de_candidatura == mayoria relativa\n",
    "tipo_candidatura = driver.find_element(By.CSS_SELECTOR, '#busqueda-form_tipoCandidatura')\n",
    "# Click the dropdown to reveal the options\n",
    "tipo_candidatura.click()\n",
    "\n",
    "# select the needed title\n",
    "mayoria_relativa = driver.find_element(By.CSS_SELECTOR, 'div[title=\"Diputación mayoría relativa\"]')\n",
    "mayoria_relativa.click()"
   ]
  },
  {
   "cell_type": "markdown",
   "metadata": {},
   "source": [
    "Select state"
   ]
  },
  {
   "cell_type": "code",
   "execution_count": 70,
   "metadata": {},
   "outputs": [],
   "source": [
    "# select only those that correspond to the tipo_de_candidatura == mayoria relativa\n",
    "entidad = driver.find_element(By.CSS_SELECTOR, '#busqueda-form_entidad')\n",
    "# Click the dropdown to reveal the options\n",
    "entidad.click()\n",
    "\n",
    "# select the needed state\n",
    "nombre_estado = \"AGUASCALIENTES\"\n",
    "estado = driver.find_element(By.CSS_SELECTOR, f'div[title=\"{nombre_estado}\"]')\n",
    "estado.click()\n",
    "\n",
    "# Give it a moment to load options\n",
    "time.sleep(2)"
   ]
  },
  {
   "cell_type": "markdown",
   "metadata": {},
   "source": [
    "Execute search"
   ]
  },
  {
   "cell_type": "code",
   "execution_count": null,
   "metadata": {},
   "outputs": [],
   "source": [
    "#execute search\n",
    "driver.execute_script(\"window.scrollBy(0, 500);\")  # Scroll down by 1000 pixels\n",
    "buscar = driver.find_element(By.CSS_SELECTOR, 'button.ant-btn:nth-child(2)')\n",
    "# Click the dropdown to reveal the options\n",
    "time.sleep(1)\n",
    "buscar.click()\n",
    "time.sleep(2)"
   ]
  },
  {
   "cell_type": "markdown",
   "metadata": {},
   "source": [
    "Table selection"
   ]
  },
  {
   "cell_type": "code",
   "execution_count": 104,
   "metadata": {},
   "outputs": [],
   "source": [
    "\n",
    "# select only those that correspond to the tipo_de_candidatura == mayoria relativa\n",
    "tabla = driver.find_element(By.CSS_SELECTOR, '#contenedor-resultados > div.ant-table-wrapper > div > div > div > div > div > table')\n",
    "\n",
    "# Find all rows in the table (usually inside <tr> tags)\n",
    "rows = tabla.find_elements(By.XPATH, './/tbody/tr')    "
   ]
  },
  {
   "cell_type": "code",
   "execution_count": 84,
   "metadata": {},
   "outputs": [
    {
     "name": "stdout",
     "output_type": "stream",
     "text": [
      "<selenium.webdriver.remote.webelement.WebElement (session=\"e3e225035c7b02461aef9bf37492c032\", element=\"f.A536FCADE710D4A325F2347AA880DCC0.d.37C6CE1EE3B2D23D4C1741C29A520490.e.143\")>\n",
      "<selenium.webdriver.remote.webelement.WebElement (session=\"e3e225035c7b02461aef9bf37492c032\", element=\"f.A536FCADE710D4A325F2347AA880DCC0.d.37C6CE1EE3B2D23D4C1741C29A520490.e.144\")>\n",
      "<selenium.webdriver.remote.webelement.WebElement (session=\"e3e225035c7b02461aef9bf37492c032\", element=\"f.A536FCADE710D4A325F2347AA880DCC0.d.37C6CE1EE3B2D23D4C1741C29A520490.e.145\")>\n",
      "<selenium.webdriver.remote.webelement.WebElement (session=\"e3e225035c7b02461aef9bf37492c032\", element=\"f.A536FCADE710D4A325F2347AA880DCC0.d.37C6CE1EE3B2D23D4C1741C29A520490.e.146\")>\n",
      "<selenium.webdriver.remote.webelement.WebElement (session=\"e3e225035c7b02461aef9bf37492c032\", element=\"f.A536FCADE710D4A325F2347AA880DCC0.d.37C6CE1EE3B2D23D4C1741C29A520490.e.147\")>\n",
      "<selenium.webdriver.remote.webelement.WebElement (session=\"e3e225035c7b02461aef9bf37492c032\", element=\"f.A536FCADE710D4A325F2347AA880DCC0.d.37C6CE1EE3B2D23D4C1741C29A520490.e.148\")>\n",
      "<selenium.webdriver.remote.webelement.WebElement (session=\"e3e225035c7b02461aef9bf37492c032\", element=\"f.A536FCADE710D4A325F2347AA880DCC0.d.37C6CE1EE3B2D23D4C1741C29A520490.e.149\")>\n",
      "<selenium.webdriver.remote.webelement.WebElement (session=\"e3e225035c7b02461aef9bf37492c032\", element=\"f.A536FCADE710D4A325F2347AA880DCC0.d.37C6CE1EE3B2D23D4C1741C29A520490.e.150\")>\n",
      "<selenium.webdriver.remote.webelement.WebElement (session=\"e3e225035c7b02461aef9bf37492c032\", element=\"f.A536FCADE710D4A325F2347AA880DCC0.d.37C6CE1EE3B2D23D4C1741C29A520490.e.151\")>\n",
      "<selenium.webdriver.remote.webelement.WebElement (session=\"e3e225035c7b02461aef9bf37492c032\", element=\"f.A536FCADE710D4A325F2347AA880DCC0.d.37C6CE1EE3B2D23D4C1741C29A520490.e.152\")>\n",
      "<selenium.webdriver.remote.webelement.WebElement (session=\"e3e225035c7b02461aef9bf37492c032\", element=\"f.A536FCADE710D4A325F2347AA880DCC0.d.37C6CE1EE3B2D23D4C1741C29A520490.e.153\")>\n",
      "<selenium.webdriver.remote.webelement.WebElement (session=\"e3e225035c7b02461aef9bf37492c032\", element=\"f.A536FCADE710D4A325F2347AA880DCC0.d.37C6CE1EE3B2D23D4C1741C29A520490.e.154\")>\n"
     ]
    }
   ],
   "source": [
    "# Loop through each row and find the url with the file to download\n",
    "n=1\n",
    "for row in range(1,2):#range(1,len(rows)): #the table links begin on the 2nd body row, get the link and open, download file, and go back\n",
    "    n=n+1\n",
    "    tabla = driver.find_element(By.CSS_SELECTOR, '#contenedor-resultados > div.ant-table-wrapper > div > div > div > div > div > table')\n",
    "    rows = tabla.find_elements(By.XPATH, './/tbody/tr')\n",
    "\n",
    "    # Locate the 4th column (index 3 because it is 0-based)\n",
    "    link_element = tabla.find_element(By.CSS_SELECTOR, f'tr.ant-table-row:nth-child({n}) > td:nth-child(4) > div:nth-child(1) > a:nth-child(2)')\n",
    "    # Extract the link and print it (optional)\n",
    "    link_url = link_element.get_attribute('href')\n",
    "    print(f\"Opening link: {link_url}\")\n",
    "\n",
    "    # Click the link\n",
    "    link_element.click()\n",
    "    # Allow the new page to load (adjust time as necessary)\n",
    "    time.sleep(2)\n",
    "    driver.execute_script(\"window.scrollBy(0, 5000);\")  # Scroll down by 1000 pixels\n",
    "\n",
    "    documento = driver.find_element(By.CSS_SELECTOR, '#imprimir > div.ant-row > div:nth-child(2) > div > a')\n",
    "    documento.click()\n",
    "    # Optionally, you can perform some action on the new page here\n",
    "    \n",
    "    # Go back to the original table page\n",
    "    driver.back()\n",
    "    time.sleep(4)\n"
   ]
  },
  {
   "cell_type": "code",
   "execution_count": 108,
   "metadata": {},
   "outputs": [],
   "source": [
    "driver.execute_script(\"window.scrollBy(0, 2500);\")  # Scroll down by 1000 pixels\n"
   ]
  },
  {
   "cell_type": "code",
   "execution_count": 72,
   "metadata": {},
   "outputs": [],
   "source": [
    "\n",
    "\n",
    "# Give it a moment to load options\n",
    "time.sleep(2)\n",
    "\n",
    "\n",
    "# Close the browser after the task is done\n",
    "#driver.quit()"
   ]
  }
 ],
 "metadata": {
  "kernelspec": {
   "display_name": "slnm",
   "language": "python",
   "name": "python3"
  },
  "language_info": {
   "codemirror_mode": {
    "name": "ipython",
    "version": 3
   },
   "file_extension": ".py",
   "mimetype": "text/x-python",
   "name": "python",
   "nbconvert_exporter": "python",
   "pygments_lexer": "ipython3",
   "version": "3.12.2"
  }
 },
 "nbformat": 4,
 "nbformat_minor": 2
}
