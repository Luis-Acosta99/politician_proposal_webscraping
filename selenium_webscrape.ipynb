{
 "cells": [
  {
   "cell_type": "code",
   "execution_count": 1,
   "metadata": {},
   "outputs": [],
   "source": [
    "from selenium import webdriver\n",
    "from selenium.webdriver.common.by import By\n",
    "from selenium.webdriver.support.ui import Select\n",
    "import time\n",
    "import pandas as pd"
   ]
  },
  {
   "cell_type": "markdown",
   "metadata": {},
   "source": [
    "# Select the representative profile\n",
    "\n",
    "Considering the following parameters\n",
    "- tipo de candidatura = Diputación mayoría relativa \n",
    "- entidad = all states, iterate through hard-coded list\n",
    "-"
   ]
  },
  {
   "cell_type": "markdown",
   "metadata": {},
   "source": [
    "Open driver and webpage"
   ]
  },
  {
   "cell_type": "code",
   "execution_count": 26,
   "metadata": {},
   "outputs": [],
   "source": [
    "# Set up WebDriver (assuming you're using Chrome)\n",
    "options = webdriver.ChromeOptions()\n",
    "options.add_experimental_option('prefs', {\n",
    "    \"download.default_directory\": \"C:/Users/luisf/Downloads/propuestas_politicas\",  # Change path accordingly\n",
    "    \"download.prompt_for_download\": False,\n",
    "    \"download.directory_upgrade\": True,\n",
    "    \"safebrowsing.enabled\": True\n",
    "})\n",
    "\n",
    "driver = webdriver.Chrome(options=options)\n",
    "\n",
    "driver.get('https://candidaturas2021.ine.mx/')"
   ]
  },
  {
   "cell_type": "markdown",
   "metadata": {},
   "source": [
    "Select tipo de candidatura"
   ]
  },
  {
   "cell_type": "code",
   "execution_count": 27,
   "metadata": {},
   "outputs": [],
   "source": [
    "# select only those that correspond to the tipo_de_candidatura == mayoria relativa\n",
    "tipo_candidatura = driver.find_element(By.CSS_SELECTOR, '#busqueda-form_tipoCandidatura')\n",
    "# Click the dropdown to reveal the options\n",
    "tipo_candidatura.click()\n",
    "\n",
    "# select the needed title\n",
    "mayoria_relativa = driver.find_element(By.CSS_SELECTOR, 'div[title=\"Diputación mayoría relativa\"]')\n",
    "mayoria_relativa.click()"
   ]
  },
  {
   "cell_type": "markdown",
   "metadata": {},
   "source": [
    "Select state"
   ]
  },
  {
   "cell_type": "code",
   "execution_count": 28,
   "metadata": {},
   "outputs": [
    {
     "ename": "ElementClickInterceptedException",
     "evalue": "Message: element click intercepted: Element is not clickable at point (608, 779)\n  (Session info: chrome=129.0.6668.90)\nStacktrace:\n\tGetHandleVerifier [0x00007FF6BD26B675+29573]\n\t(No symbol) [0x00007FF6BD1E04A0]\n\t(No symbol) [0x00007FF6BD09B6EA]\n\t(No symbol) [0x00007FF6BD0F74EE]\n\t(No symbol) [0x00007FF6BD0F4F3C]\n\t(No symbol) [0x00007FF6BD0F2408]\n\t(No symbol) [0x00007FF6BD0F161A]\n\t(No symbol) [0x00007FF6BD0E36BE]\n\t(No symbol) [0x00007FF6BD1172FA]\n\t(No symbol) [0x00007FF6BD0E2FF6]\n\t(No symbol) [0x00007FF6BD117510]\n\t(No symbol) [0x00007FF6BD1386BC]\n\t(No symbol) [0x00007FF6BD1170A3]\n\t(No symbol) [0x00007FF6BD0E12DF]\n\t(No symbol) [0x00007FF6BD0E2441]\n\tGetHandleVerifier [0x00007FF6BD59C5BD+3375821]\n\tGetHandleVerifier [0x00007FF6BD5E79B7+3684039]\n\tGetHandleVerifier [0x00007FF6BD5DCDDB+3640043]\n\tGetHandleVerifier [0x00007FF6BD32B7F6+816390]\n\t(No symbol) [0x00007FF6BD1EB7AF]\n\t(No symbol) [0x00007FF6BD1E75D4]\n\t(No symbol) [0x00007FF6BD1E7770]\n\t(No symbol) [0x00007FF6BD1D65CF]\n\tBaseThreadInitThunk [0x00007FFE6369257D+29]\n\tRtlUserThreadStart [0x00007FFE6584AF28+40]\n",
     "output_type": "error",
     "traceback": [
      "\u001b[1;31m---------------------------------------------------------------------------\u001b[0m",
      "\u001b[1;31mElementClickInterceptedException\u001b[0m          Traceback (most recent call last)",
      "Cell \u001b[1;32mIn[28], line 14\u001b[0m\n\u001b[0;32m     12\u001b[0m buscar \u001b[38;5;241m=\u001b[39m driver\u001b[38;5;241m.\u001b[39mfind_element(By\u001b[38;5;241m.\u001b[39mCSS_SELECTOR, \u001b[38;5;124m'\u001b[39m\u001b[38;5;124mbutton.ant-btn:nth-child(2)\u001b[39m\u001b[38;5;124m'\u001b[39m)\n\u001b[0;32m     13\u001b[0m \u001b[38;5;66;03m# Click the dropdown to reveal the options\u001b[39;00m\n\u001b[1;32m---> 14\u001b[0m \u001b[43mbuscar\u001b[49m\u001b[38;5;241;43m.\u001b[39;49m\u001b[43mclick\u001b[49m\u001b[43m(\u001b[49m\u001b[43m)\u001b[49m\n",
      "File \u001b[1;32mc:\\Users\\luisf\\git_projects\\politician_proposal_webscraping\\slnm\\Lib\\site-packages\\selenium\\webdriver\\remote\\webelement.py:94\u001b[0m, in \u001b[0;36mWebElement.click\u001b[1;34m(self)\u001b[0m\n\u001b[0;32m     92\u001b[0m \u001b[38;5;28;01mdef\u001b[39;00m \u001b[38;5;21mclick\u001b[39m(\u001b[38;5;28mself\u001b[39m) \u001b[38;5;241m-\u001b[39m\u001b[38;5;241m>\u001b[39m \u001b[38;5;28;01mNone\u001b[39;00m:\n\u001b[0;32m     93\u001b[0m \u001b[38;5;250m    \u001b[39m\u001b[38;5;124;03m\"\"\"Clicks the element.\"\"\"\u001b[39;00m\n\u001b[1;32m---> 94\u001b[0m     \u001b[38;5;28;43mself\u001b[39;49m\u001b[38;5;241;43m.\u001b[39;49m\u001b[43m_execute\u001b[49m\u001b[43m(\u001b[49m\u001b[43mCommand\u001b[49m\u001b[38;5;241;43m.\u001b[39;49m\u001b[43mCLICK_ELEMENT\u001b[49m\u001b[43m)\u001b[49m\n",
      "File \u001b[1;32mc:\\Users\\luisf\\git_projects\\politician_proposal_webscraping\\slnm\\Lib\\site-packages\\selenium\\webdriver\\remote\\webelement.py:395\u001b[0m, in \u001b[0;36mWebElement._execute\u001b[1;34m(self, command, params)\u001b[0m\n\u001b[0;32m    393\u001b[0m     params \u001b[38;5;241m=\u001b[39m {}\n\u001b[0;32m    394\u001b[0m params[\u001b[38;5;124m\"\u001b[39m\u001b[38;5;124mid\u001b[39m\u001b[38;5;124m\"\u001b[39m] \u001b[38;5;241m=\u001b[39m \u001b[38;5;28mself\u001b[39m\u001b[38;5;241m.\u001b[39m_id\n\u001b[1;32m--> 395\u001b[0m \u001b[38;5;28;01mreturn\u001b[39;00m \u001b[38;5;28;43mself\u001b[39;49m\u001b[38;5;241;43m.\u001b[39;49m\u001b[43m_parent\u001b[49m\u001b[38;5;241;43m.\u001b[39;49m\u001b[43mexecute\u001b[49m\u001b[43m(\u001b[49m\u001b[43mcommand\u001b[49m\u001b[43m,\u001b[49m\u001b[43m \u001b[49m\u001b[43mparams\u001b[49m\u001b[43m)\u001b[49m\n",
      "File \u001b[1;32mc:\\Users\\luisf\\git_projects\\politician_proposal_webscraping\\slnm\\Lib\\site-packages\\selenium\\webdriver\\remote\\webdriver.py:354\u001b[0m, in \u001b[0;36mWebDriver.execute\u001b[1;34m(self, driver_command, params)\u001b[0m\n\u001b[0;32m    352\u001b[0m response \u001b[38;5;241m=\u001b[39m \u001b[38;5;28mself\u001b[39m\u001b[38;5;241m.\u001b[39mcommand_executor\u001b[38;5;241m.\u001b[39mexecute(driver_command, params)\n\u001b[0;32m    353\u001b[0m \u001b[38;5;28;01mif\u001b[39;00m response:\n\u001b[1;32m--> 354\u001b[0m     \u001b[38;5;28;43mself\u001b[39;49m\u001b[38;5;241;43m.\u001b[39;49m\u001b[43merror_handler\u001b[49m\u001b[38;5;241;43m.\u001b[39;49m\u001b[43mcheck_response\u001b[49m\u001b[43m(\u001b[49m\u001b[43mresponse\u001b[49m\u001b[43m)\u001b[49m\n\u001b[0;32m    355\u001b[0m     response[\u001b[38;5;124m\"\u001b[39m\u001b[38;5;124mvalue\u001b[39m\u001b[38;5;124m\"\u001b[39m] \u001b[38;5;241m=\u001b[39m \u001b[38;5;28mself\u001b[39m\u001b[38;5;241m.\u001b[39m_unwrap_value(response\u001b[38;5;241m.\u001b[39mget(\u001b[38;5;124m\"\u001b[39m\u001b[38;5;124mvalue\u001b[39m\u001b[38;5;124m\"\u001b[39m, \u001b[38;5;28;01mNone\u001b[39;00m))\n\u001b[0;32m    356\u001b[0m     \u001b[38;5;28;01mreturn\u001b[39;00m response\n",
      "File \u001b[1;32mc:\\Users\\luisf\\git_projects\\politician_proposal_webscraping\\slnm\\Lib\\site-packages\\selenium\\webdriver\\remote\\errorhandler.py:229\u001b[0m, in \u001b[0;36mErrorHandler.check_response\u001b[1;34m(self, response)\u001b[0m\n\u001b[0;32m    227\u001b[0m         alert_text \u001b[38;5;241m=\u001b[39m value[\u001b[38;5;124m\"\u001b[39m\u001b[38;5;124malert\u001b[39m\u001b[38;5;124m\"\u001b[39m]\u001b[38;5;241m.\u001b[39mget(\u001b[38;5;124m\"\u001b[39m\u001b[38;5;124mtext\u001b[39m\u001b[38;5;124m\"\u001b[39m)\n\u001b[0;32m    228\u001b[0m     \u001b[38;5;28;01mraise\u001b[39;00m exception_class(message, screen, stacktrace, alert_text)  \u001b[38;5;66;03m# type: ignore[call-arg]  # mypy is not smart enough here\u001b[39;00m\n\u001b[1;32m--> 229\u001b[0m \u001b[38;5;28;01mraise\u001b[39;00m exception_class(message, screen, stacktrace)\n",
      "\u001b[1;31mElementClickInterceptedException\u001b[0m: Message: element click intercepted: Element is not clickable at point (608, 779)\n  (Session info: chrome=129.0.6668.90)\nStacktrace:\n\tGetHandleVerifier [0x00007FF6BD26B675+29573]\n\t(No symbol) [0x00007FF6BD1E04A0]\n\t(No symbol) [0x00007FF6BD09B6EA]\n\t(No symbol) [0x00007FF6BD0F74EE]\n\t(No symbol) [0x00007FF6BD0F4F3C]\n\t(No symbol) [0x00007FF6BD0F2408]\n\t(No symbol) [0x00007FF6BD0F161A]\n\t(No symbol) [0x00007FF6BD0E36BE]\n\t(No symbol) [0x00007FF6BD1172FA]\n\t(No symbol) [0x00007FF6BD0E2FF6]\n\t(No symbol) [0x00007FF6BD117510]\n\t(No symbol) [0x00007FF6BD1386BC]\n\t(No symbol) [0x00007FF6BD1170A3]\n\t(No symbol) [0x00007FF6BD0E12DF]\n\t(No symbol) [0x00007FF6BD0E2441]\n\tGetHandleVerifier [0x00007FF6BD59C5BD+3375821]\n\tGetHandleVerifier [0x00007FF6BD5E79B7+3684039]\n\tGetHandleVerifier [0x00007FF6BD5DCDDB+3640043]\n\tGetHandleVerifier [0x00007FF6BD32B7F6+816390]\n\t(No symbol) [0x00007FF6BD1EB7AF]\n\t(No symbol) [0x00007FF6BD1E75D4]\n\t(No symbol) [0x00007FF6BD1E7770]\n\t(No symbol) [0x00007FF6BD1D65CF]\n\tBaseThreadInitThunk [0x00007FFE6369257D+29]\n\tRtlUserThreadStart [0x00007FFE6584AF28+40]\n"
     ]
    }
   ],
   "source": [
    "# select only those that correspond to the tipo_de_candidatura == mayoria relativa\n",
    "entidad = driver.find_element(By.CSS_SELECTOR, '#busqueda-form_entidad')\n",
    "# Click the dropdown to reveal the options\n",
    "entidad.click()\n",
    "\n",
    "# select the needed title\n",
    "nombre_estado = \"AGUASCALIENTES\"\n",
    "estado = driver.find_element(By.CSS_SELECTOR, f'div[title=\"{nombre_estado}\"]')\n",
    "estado.click()\n",
    "\n",
    "#execute search\n",
    "buscar = driver.find_element(By.CSS_SELECTOR, '.anticon-search')\n",
    "# Click the dropdown to reveal the options\n",
    "buscar.click()"
   ]
  },
  {
   "cell_type": "code",
   "execution_count": 29,
   "metadata": {},
   "outputs": [],
   "source": [
    "#execute search\n",
    "buscar = driver.find_element(By.CSS_SELECTOR, '.anticon-search')\n",
    "# Click the dropdown to reveal the options\n",
    "buscar.click()"
   ]
  },
  {
   "cell_type": "code",
   "execution_count": 21,
   "metadata": {},
   "outputs": [],
   "source": [
    "\n",
    "\n",
    "# Give it a moment to load options\n",
    "time.sleep(2)\n",
    "\n",
    "\n",
    "# Close the browser after the task is done\n",
    "#driver.quit()"
   ]
  }
 ],
 "metadata": {
  "kernelspec": {
   "display_name": "slnm",
   "language": "python",
   "name": "python3"
  },
  "language_info": {
   "codemirror_mode": {
    "name": "ipython",
    "version": 3
   },
   "file_extension": ".py",
   "mimetype": "text/x-python",
   "name": "python",
   "nbconvert_exporter": "python",
   "pygments_lexer": "ipython3",
   "version": "3.12.2"
  }
 },
 "nbformat": 4,
 "nbformat_minor": 2
}
